{
  "nbformat": 4,
  "nbformat_minor": 0,
  "metadata": {
    "colab": {
      "provenance": [],
      "authorship_tag": "ABX9TyOc0aycpv8G84oYj4ot7W4Q",
      "include_colab_link": true
    },
    "kernelspec": {
      "name": "python3",
      "display_name": "Python 3"
    },
    "language_info": {
      "name": "python"
    }
  },
  "cells": [
    {
      "cell_type": "markdown",
      "metadata": {
        "id": "view-in-github",
        "colab_type": "text"
      },
      "source": [
        "<a href=\"https://colab.research.google.com/github/Kushagra481/Attention_in_Transformers/blob/main/Encoder_and_Multihead.ipynb\" target=\"_parent\"><img src=\"https://colab.research.google.com/assets/colab-badge.svg\" alt=\"Open In Colab\"/></a>"
      ]
    },
    {
      "cell_type": "markdown",
      "source": [
        "## Mulit Head"
      ],
      "metadata": {
        "id": "heQW5H2Z5CB5"
      }
    },
    {
      "cell_type": "code",
      "execution_count": 1,
      "metadata": {
        "id": "DqgQVAIs4-09"
      },
      "outputs": [],
      "source": [
        "import torch\n",
        "import torch.nn as nn\n",
        "import math\n",
        "\n",
        "class MultiHeadAttention(nn.Module):\n",
        "    def __init__(self, embed_size, heads):\n",
        "        super(MultiHeadAttention, self).__init__()\n",
        "        self.embed_size = embed_size\n",
        "        self.heads = heads\n",
        "        self.head_dim = embed_size // heads\n",
        "\n",
        "        self.query = nn.Linear(embed_size, embed_size)\n",
        "        self.key = nn.Linear(embed_size, embed_size)\n",
        "        self.value = nn.Linear(embed_size, embed_size)\n",
        "        self.fc_out = nn.Linear(embed_size, embed_size)\n",
        "\n",
        "    def forward(self, values, keys, query, mask=None):\n",
        "        N = query.shape[0]\n",
        "        value_len, key_len, query_len = values.shape[1], keys.shape[1], query.shape[1]\n",
        "\n",
        "        values = self.value(values)\n",
        "        keys = self.key(keys)\n",
        "        query = self.query(query)\n",
        "\n",
        "        values = values.view(N, value_len, self.heads, self.head_dim).transpose(1, 2)\n",
        "        keys = keys.view(N, key_len, self.heads, self.head_dim).transpose(1, 2)\n",
        "        query = query.view(N, query_len, self.heads, self.head_dim).transpose(1, 2)\n",
        "\n",
        "        energy = torch.matmul(query, keys.transpose(-1, -2)) / math.sqrt(self.head_dim)\n",
        "\n",
        "        if mask is not None:\n",
        "            energy = energy.masked_fill(mask == 0, float(\"-1e20\"))\n",
        "\n",
        "        attention = torch.softmax(energy, dim=-1)\n",
        "        out = torch.matmul(attention, values)\n",
        "        out = out.transpose(1, 2).contiguous().view(N, query_len, self.embed_size)\n",
        "        out = self.fc_out(out)\n",
        "        return out\n"
      ]
    },
    {
      "cell_type": "markdown",
      "source": [
        "## Encoder Decoder ✈"
      ],
      "metadata": {
        "id": "wC5Syc0v5OXV"
      }
    },
    {
      "cell_type": "code",
      "source": [
        "import torch\n",
        "import torch.nn as nn\n",
        "\n",
        "class TransformerBlock(nn.Module):\n",
        "    def __init__(self, embed_size, heads, ff_hidden):\n",
        "        super(TransformerBlock, self).__init__()\n",
        "        self.attention = MultiHeadAttention(embed_size, heads)\n",
        "        self.norm1 = nn.LayerNorm(embed_size)\n",
        "        self.norm2 = nn.LayerNorm(embed_size)\n",
        "        self.feed_forward = nn.Sequential(\n",
        "            nn.Linear(embed_size, ff_hidden),\n",
        "            nn.ReLU(),\n",
        "            nn.Linear(ff_hidden, embed_size)\n",
        "        )\n",
        "\n",
        "    def forward(self, x, mask):\n",
        "        attn = self.attention(x, x, x, mask)\n",
        "        x = self.norm1(attn + x)\n",
        "        forward = self.feed_forward(x)\n",
        "        x = self.norm2(forward + x)\n",
        "        return x\n",
        "\n",
        "class Encoder(nn.Module):\n",
        "    def __init__(self, input_dim, embed_size, heads, depth, ff_hidden):\n",
        "        super(Encoder, self).__init__()\n",
        "        self.embed = nn.Embedding(input_dim, embed_size)\n",
        "        self.layers = nn.ModuleList([\n",
        "            TransformerBlock(embed_size, heads, ff_hidden) for _ in range(depth)\n",
        "        ])\n",
        "\n",
        "    def forward(self, x, mask):\n",
        "        x = self.embed(x)\n",
        "        for layer in self.layers:\n",
        "            x = layer(x, mask)\n",
        "        return x\n",
        "\n",
        "class DecoderBlock(nn.Module):\n",
        "    def __init__(self, embed_size, heads, ff_hidden):\n",
        "        super(DecoderBlock, self).__init__()\n",
        "        self.attn1 = MultiHeadAttention(embed_size, heads)\n",
        "        self.norm1 = nn.LayerNorm(embed_size)\n",
        "        self.attn2 = MultiHeadAttention(embed_size, heads)\n",
        "        self.norm2 = nn.LayerNorm(embed_size)\n",
        "        self.ff = nn.Sequential(\n",
        "            nn.Linear(embed_size, ff_hidden),\n",
        "            nn.ReLU(),\n",
        "            nn.Linear(ff_hidden, embed_size)\n",
        "        )\n",
        "        self.norm3 = nn.LayerNorm(embed_size)\n",
        "\n",
        "    def forward(self, x, enc_out, src_mask, tgt_mask):\n",
        "        attn1 = self.attn1(x, x, x, tgt_mask)\n",
        "        x = self.norm1(attn1 + x)\n",
        "        attn2 = self.attn2(enc_out, enc_out, x, src_mask)\n",
        "        x = self.norm2(attn2 + x)\n",
        "        ff = self.ff(x)\n",
        "        x = self.norm3(ff + x)\n",
        "        return x\n",
        "\n",
        "class Decoder(nn.Module):\n",
        "    def __init__(self, output_dim, embed_size, heads, depth, ff_hidden):\n",
        "        super(Decoder, self).__init__()\n",
        "        self.embed = nn.Embedding(output_dim, embed_size)\n",
        "        self.layers = nn.ModuleList([\n",
        "            DecoderBlock(embed_size, heads, ff_hidden) for _ in range(depth)\n",
        "        ])\n",
        "        self.fc_out = nn.Linear(embed_size, output_dim)\n",
        "\n",
        "    def forward(self, x, enc_out, src_mask, tgt_mask):\n",
        "        x = self.embed(x)\n",
        "        for layer in self.layers:\n",
        "            x = layer(x, enc_out, src_mask, tgt_mask)\n",
        "        return self.fc_out(x)\n",
        "\n",
        "class Transformer(nn.Module):\n",
        "    def __init__(self, src_vocab_size, tgt_vocab_size, embed_size=256, heads=8, depth=6, ff_hidden=512):\n",
        "        super(Transformer, self).__init__()\n",
        "        self.encoder = Encoder(src_vocab_size, embed_size, heads, depth, ff_hidden)\n",
        "        self.decoder = Decoder(tgt_vocab_size, embed_size, heads, depth, ff_hidden)\n",
        "\n",
        "    def forward(self, src, tgt, src_mask, tgt_mask):\n",
        "        enc_out = self.encoder(src, src_mask)\n",
        "        out = self.decoder(tgt, enc_out, src_mask, tgt_mask)\n",
        "        return out\n"
      ],
      "metadata": {
        "id": "NP3Sqg9d5HwS"
      },
      "execution_count": 2,
      "outputs": []
    },
    {
      "cell_type": "code",
      "source": [],
      "metadata": {
        "id": "hRvmUChM5Nd7"
      },
      "execution_count": null,
      "outputs": []
    }
  ]
}