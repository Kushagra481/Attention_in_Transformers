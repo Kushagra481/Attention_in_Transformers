{
  "nbformat": 4,
  "nbformat_minor": 0,
  "metadata": {
    "colab": {
      "provenance": [],
      "authorship_tag": "ABX9TyO5XGfdBbZhTjsZW6SOFkLU",
      "include_colab_link": true
    },
    "kernelspec": {
      "name": "python3",
      "display_name": "Python 3"
    },
    "language_info": {
      "name": "python"
    }
  },
  "cells": [
    {
      "cell_type": "markdown",
      "metadata": {
        "id": "view-in-github",
        "colab_type": "text"
      },
      "source": [
        "<a href=\"https://colab.research.google.com/github/Kushagra481/Attention_in_Transformers/blob/main/Addition_Attention.ipynb\" target=\"_parent\"><img src=\"https://colab.research.google.com/assets/colab-badge.svg\" alt=\"Open In Colab\"/></a>"
      ]
    },
    {
      "cell_type": "code",
      "execution_count": 1,
      "metadata": {
        "id": "Yl2h7V2-_QbU"
      },
      "outputs": [],
      "source": [
        "import torch\n",
        "import torch.nn as nn\n",
        "import torch.nn.functional as F\n",
        "\n",
        "class AdditiveAttention(nn.Module):\n",
        "    def __init__(self, embed_dim, hidden_dim):\n",
        "        super().__init__()\n",
        "        self.q_proj = nn.Linear(embed_dim, hidden_dim)\n",
        "        self.k_proj = nn.Linear(embed_dim, hidden_dim)\n",
        "        self.v_proj = nn.Linear(embed_dim, hidden_dim)\n",
        "        self.add_mlp = nn.Sequential(\n",
        "            nn.Linear(hidden_dim, hidden_dim),\n",
        "            nn.Tanh(),\n",
        "            nn.Linear(hidden_dim, 1)\n",
        "        )\n",
        "\n",
        "    def forward(self, x, mask=None):\n",
        "        # x: (B, T, C)\n",
        "        Q = self.q_proj(x)  # (B, T, H)\n",
        "        K = self.k_proj(x)  # (B, T, H)\n",
        "        V = self.v_proj(x)  # (B, T, H)\n",
        "\n",
        "        B, T, H = Q.shape\n",
        "\n",
        "        # Expand to compute Q_i + K_j\n",
        "        Q_exp = Q.unsqueeze(2)  # (B, T, 1, H)\n",
        "        K_exp = K.unsqueeze(1)  # (B, 1, T, H)\n",
        "        add_input = Q_exp + K_exp  # (B, T, T, H)\n",
        "\n",
        "        # Pass through additive kernel MLP\n",
        "        e = self.add_mlp(add_input).squeeze(-1)  # (B, T, T)\n",
        "\n",
        "        if mask is not None:\n",
        "            e = e.masked_fill(mask == 0, -1e9)\n",
        "\n",
        "        att = F.softmax(e, dim=-1)  # (B, T, T)\n",
        "        out = torch.matmul(att, V)  # (B, T, H)\n",
        "\n",
        "        return out\n"
      ]
    },
    {
      "cell_type": "code",
      "source": [
        "dummy = torch.randn(1, 10, 64)  # (B, T, C)\n",
        "out = AdditiveAttention(embed_dim=64, hidden_dim=64)(dummy)\n",
        "print(out.shape)  # (1, 10, 64)\n"
      ],
      "metadata": {
        "colab": {
          "base_uri": "https://localhost:8080/"
        },
        "id": "6lKzk4i0_TK_",
        "outputId": "f2578b99-cfc3-445e-9f8b-62d71e362aca"
      },
      "execution_count": 2,
      "outputs": [
        {
          "output_type": "stream",
          "name": "stdout",
          "text": [
            "torch.Size([1, 10, 64])\n"
          ]
        }
      ]
    },
    {
      "cell_type": "code",
      "source": [],
      "metadata": {
        "id": "vaNcCfHn_dWt"
      },
      "execution_count": null,
      "outputs": []
    }
  ]
}